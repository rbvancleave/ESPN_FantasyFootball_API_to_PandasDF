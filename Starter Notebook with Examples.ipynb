{
 "cells": [
  {
   "cell_type": "code",
   "execution_count": 1,
   "id": "b9d9f0f1",
   "metadata": {},
   "outputs": [],
   "source": [
    "import pandas as pd\n",
    "import numpy as np\n",
    "\n",
    "import matplotlib.pyplot as plt\n",
    "import matplotlib.style as style\n",
    "style.use('fivethirtyeight')\n",
    "\n",
    "import seaborn as sns\n",
    "\n",
    "%matplotlib inline"
   ]
  },
  {
   "cell_type": "code",
   "execution_count": 2,
   "id": "e7a669de",
   "metadata": {},
   "outputs": [
    {
     "name": "stdout",
     "output_type": "stream",
     "text": [
      "leagueID: ········\n",
      "swid, include '{ }', ex. {DCIAD841-5201-444F-AAD8-414201A44F9A}: ········\n",
      "espn_s2 (quite long..): ········\n",
      "Would you like 2018 - 2021 data? (y/n): n\n",
      "What year would you like? :2021\n",
      "Done!\n",
      "-----------------------\n",
      "Dataframes include: scoreboard_df, teams_df, transactions_df, points_by_stats_df\n",
      "You will need to manually import points_by_stats DataFrame by running: 'from ESPN_FFL_API import points_by_stats_df'\n"
     ]
    }
   ],
   "source": [
    "from ESPN_FFL_API import response_json, scoreboard_df, teams_df, transactions_df"
   ]
  },
  {
   "cell_type": "code",
   "execution_count": 3,
   "id": "6e25b1e0",
   "metadata": {},
   "outputs": [],
   "source": [
    "from ESPN_FFL_API import points_by_stats_df"
   ]
  },
  {
   "cell_type": "code",
   "execution_count": 4,
   "id": "81b78639",
   "metadata": {},
   "outputs": [
    {
     "data": {
      "text/html": [
       "<div>\n",
       "<style scoped>\n",
       "    .dataframe tbody tr th:only-of-type {\n",
       "        vertical-align: middle;\n",
       "    }\n",
       "\n",
       "    .dataframe tbody tr th {\n",
       "        vertical-align: top;\n",
       "    }\n",
       "\n",
       "    .dataframe thead th {\n",
       "        text-align: right;\n",
       "    }\n",
       "</style>\n",
       "<table border=\"1\" class=\"dataframe\">\n",
       "  <thead>\n",
       "    <tr style=\"text-align: right;\">\n",
       "      <th></th>\n",
       "      <th>week_num</th>\n",
       "      <th>winning_team</th>\n",
       "      <th>winning_team_points</th>\n",
       "      <th>losing_team</th>\n",
       "      <th>losing_team_points</th>\n",
       "    </tr>\n",
       "  </thead>\n",
       "  <tbody>\n",
       "    <tr>\n",
       "      <th>1</th>\n",
       "      <td>1</td>\n",
       "      <td>Spain without The S</td>\n",
       "      <td>152</td>\n",
       "      <td>I ❤️ Kickers and Defenses</td>\n",
       "      <td>105</td>\n",
       "    </tr>\n",
       "  </tbody>\n",
       "</table>\n",
       "</div>"
      ],
      "text/plain": [
       "   week_num         winning_team  winning_team_points  \\\n",
       "1         1  Spain without The S                  152   \n",
       "\n",
       "                 losing_team  losing_team_points  \n",
       "1  I ❤️ Kickers and Defenses                 105  "
      ]
     },
     "execution_count": 4,
     "metadata": {},
     "output_type": "execute_result"
    }
   ],
   "source": [
    "scoreboard_df.head(1)"
   ]
  },
  {
   "cell_type": "code",
   "execution_count": 5,
   "id": "dc52b7c6",
   "metadata": {},
   "outputs": [
    {
     "data": {
      "text/html": [
       "<div>\n",
       "<style scoped>\n",
       "    .dataframe tbody tr th:only-of-type {\n",
       "        vertical-align: middle;\n",
       "    }\n",
       "\n",
       "    .dataframe tbody tr th {\n",
       "        vertical-align: top;\n",
       "    }\n",
       "\n",
       "    .dataframe thead th {\n",
       "        text-align: right;\n",
       "    }\n",
       "</style>\n",
       "<table border=\"1\" class=\"dataframe\">\n",
       "  <thead>\n",
       "    <tr style=\"text-align: right;\">\n",
       "      <th></th>\n",
       "      <th>team_name</th>\n",
       "      <th>draft_day_proj_rank</th>\n",
       "      <th>current_proj_rank</th>\n",
       "      <th>change_in_proj_rank</th>\n",
       "      <th>ranking</th>\n",
       "      <th>points_for</th>\n",
       "      <th>points_against</th>\n",
       "      <th>games_back</th>\n",
       "      <th>losses</th>\n",
       "      <th>wins</th>\n",
       "      <th>streak_length</th>\n",
       "      <th>streak_type</th>\n",
       "      <th>waiver_rank</th>\n",
       "    </tr>\n",
       "  </thead>\n",
       "  <tbody>\n",
       "    <tr>\n",
       "      <th>3</th>\n",
       "      <td>Vocal Minority</td>\n",
       "      <td>14</td>\n",
       "      <td>8</td>\n",
       "      <td>6</td>\n",
       "      <td>1</td>\n",
       "      <td>299</td>\n",
       "      <td>236</td>\n",
       "      <td>0</td>\n",
       "      <td>0</td>\n",
       "      <td>2</td>\n",
       "      <td>2</td>\n",
       "      <td>WIN</td>\n",
       "      <td>4</td>\n",
       "    </tr>\n",
       "  </tbody>\n",
       "</table>\n",
       "</div>"
      ],
      "text/plain": [
       "         team_name  draft_day_proj_rank  current_proj_rank  \\\n",
       "3  Vocal Minority                    14                  8   \n",
       "\n",
       "   change_in_proj_rank  ranking  points_for  points_against  games_back  \\\n",
       "3                    6        1         299             236           0   \n",
       "\n",
       "   losses  wins  streak_length streak_type  waiver_rank  \n",
       "3       0     2              2         WIN            4  "
      ]
     },
     "execution_count": 5,
     "metadata": {},
     "output_type": "execute_result"
    }
   ],
   "source": [
    "teams_df.drop('team_manager',inplace=True,axis=1)\n",
    "teams_df.head(1)"
   ]
  },
  {
   "cell_type": "code",
   "execution_count": 6,
   "id": "7f720c23",
   "metadata": {},
   "outputs": [
    {
     "data": {
      "text/html": [
       "<div>\n",
       "<style scoped>\n",
       "    .dataframe tbody tr th:only-of-type {\n",
       "        vertical-align: middle;\n",
       "    }\n",
       "\n",
       "    .dataframe tbody tr th {\n",
       "        vertical-align: top;\n",
       "    }\n",
       "\n",
       "    .dataframe thead th {\n",
       "        text-align: right;\n",
       "    }\n",
       "</style>\n",
       "<table border=\"1\" class=\"dataframe\">\n",
       "  <thead>\n",
       "    <tr style=\"text-align: right;\">\n",
       "      <th></th>\n",
       "      <th>team_name</th>\n",
       "      <th>acquisitionBudgetSpent</th>\n",
       "      <th>budget_remaining</th>\n",
       "      <th>acquisitions</th>\n",
       "      <th>drops</th>\n",
       "      <th>misc</th>\n",
       "      <th>moveToActive</th>\n",
       "      <th>trades</th>\n",
       "    </tr>\n",
       "  </thead>\n",
       "  <tbody>\n",
       "    <tr>\n",
       "      <th>1</th>\n",
       "      <td>Superb Owls</td>\n",
       "      <td>31</td>\n",
       "      <td>69</td>\n",
       "      <td>7</td>\n",
       "      <td>7</td>\n",
       "      <td>0</td>\n",
       "      <td>6</td>\n",
       "      <td>1</td>\n",
       "    </tr>\n",
       "  </tbody>\n",
       "</table>\n",
       "</div>"
      ],
      "text/plain": [
       "     team_name  acquisitionBudgetSpent  budget_remaining  acquisitions  drops  \\\n",
       "1  Superb Owls                      31                69             7      7   \n",
       "\n",
       "   misc  moveToActive  trades  \n",
       "1     0             6       1  "
      ]
     },
     "execution_count": 6,
     "metadata": {},
     "output_type": "execute_result"
    }
   ],
   "source": [
    "transactions_df.drop('team_manager',inplace=True,axis=1)\n",
    "transactions_df.head(1)"
   ]
  },
  {
   "cell_type": "code",
   "execution_count": 7,
   "id": "6f4bd0cc",
   "metadata": {},
   "outputs": [
    {
     "data": {
      "text/html": [
       "<div>\n",
       "<style scoped>\n",
       "    .dataframe tbody tr th:only-of-type {\n",
       "        vertical-align: middle;\n",
       "    }\n",
       "\n",
       "    .dataframe tbody tr th {\n",
       "        vertical-align: top;\n",
       "    }\n",
       "\n",
       "    .dataframe thead th {\n",
       "        text-align: right;\n",
       "    }\n",
       "</style>\n",
       "<table border=\"1\" class=\"dataframe\">\n",
       "  <thead>\n",
       "    <tr style=\"text-align: right;\">\n",
       "      <th></th>\n",
       "      <th>team_name</th>\n",
       "      <th>Passing-Yds</th>\n",
       "      <th>Passing-TD</th>\n",
       "      <th>Passing-400+ Yds</th>\n",
       "      <th>Passing-2pt conversion**</th>\n",
       "      <th>Passing-INT</th>\n",
       "      <th>Rushing-Yds</th>\n",
       "      <th>Rushing-TD</th>\n",
       "      <th>Rushing-2ptConversion</th>\n",
       "      <th>Rushing-40+yardTD</th>\n",
       "      <th>...</th>\n",
       "      <th>128</th>\n",
       "      <th>D/ST-100_199 Yds Allowed</th>\n",
       "      <th>D/ST-200_299 Yds Allowed</th>\n",
       "      <th>D/ST-350_399 Yds Allowed</th>\n",
       "      <th>D/ST-400_449 Yds Allowed</th>\n",
       "      <th>D/ST-450_499 Yds Allowed</th>\n",
       "      <th>D/ST-500_549 Yds Allowed</th>\n",
       "      <th>136</th>\n",
       "      <th>198</th>\n",
       "      <th>K-FG 60+ yds</th>\n",
       "    </tr>\n",
       "  </thead>\n",
       "  <tbody>\n",
       "    <tr>\n",
       "      <th>1</th>\n",
       "      <td>Superb Owls</td>\n",
       "      <td>597</td>\n",
       "      <td>6</td>\n",
       "      <td>0</td>\n",
       "      <td>0</td>\n",
       "      <td>0</td>\n",
       "      <td>343</td>\n",
       "      <td>5</td>\n",
       "      <td>0</td>\n",
       "      <td>0</td>\n",
       "      <td>...</td>\n",
       "      <td>0</td>\n",
       "      <td>0</td>\n",
       "      <td>0</td>\n",
       "      <td>1</td>\n",
       "      <td>0</td>\n",
       "      <td>1</td>\n",
       "      <td>0</td>\n",
       "      <td>0</td>\n",
       "      <td>0</td>\n",
       "      <td>0</td>\n",
       "    </tr>\n",
       "  </tbody>\n",
       "</table>\n",
       "<p>1 rows × 54 columns</p>\n",
       "</div>"
      ],
      "text/plain": [
       "     team_name  Passing-Yds  Passing-TD  Passing-400+ Yds  \\\n",
       "1  Superb Owls          597           6                 0   \n",
       "\n",
       "   Passing-2pt conversion**  Passing-INT  Rushing-Yds  Rushing-TD  \\\n",
       "1                         0            0          343           5   \n",
       "\n",
       "   Rushing-2ptConversion  Rushing-40+yardTD  ...  128  \\\n",
       "1                      0                  0  ...    0   \n",
       "\n",
       "   D/ST-100_199 Yds Allowed  D/ST-200_299 Yds Allowed  \\\n",
       "1                         0                         0   \n",
       "\n",
       "   D/ST-350_399 Yds Allowed  D/ST-400_449 Yds Allowed  \\\n",
       "1                         1                         0   \n",
       "\n",
       "   D/ST-450_499 Yds Allowed  D/ST-500_549 Yds Allowed  136  198  K-FG 60+ yds  \n",
       "1                         1                         0    0    0             0  \n",
       "\n",
       "[1 rows x 54 columns]"
      ]
     },
     "execution_count": 7,
     "metadata": {},
     "output_type": "execute_result"
    }
   ],
   "source": [
    "points_by_stats_df.drop('team_manager',inplace=True,axis=1)\n",
    "points_by_stats_df.head(1)"
   ]
  },
  {
   "cell_type": "code",
   "execution_count": null,
   "id": "829ff451",
   "metadata": {},
   "outputs": [],
   "source": []
  }
 ],
 "metadata": {
  "kernelspec": {
   "display_name": "Python 3",
   "language": "python",
   "name": "python3"
  },
  "language_info": {
   "codemirror_mode": {
    "name": "ipython",
    "version": 3
   },
   "file_extension": ".py",
   "mimetype": "text/x-python",
   "name": "python",
   "nbconvert_exporter": "python",
   "pygments_lexer": "ipython3",
   "version": "3.6.13"
  }
 },
 "nbformat": 4,
 "nbformat_minor": 5
}
